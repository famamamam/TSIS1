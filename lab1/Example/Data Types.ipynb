{
 "cells": [
  {
   "cell_type": "code",
   "execution_count": null,
   "metadata": {},
   "outputs": [],
   "source": [
    "#Print the data type of the variable x:\n",
    "\n",
    "x = 5\n",
    "print(type(x))"
   ]
  },
  {
   "cell_type": "code",
   "execution_count": null,
   "metadata": {},
   "outputs": [],
   "source": [
    "x = \"Hello World\" #str\t\n",
    "x = 20 #int\t\n",
    "x = 20.5 #float\t\n",
    "x = 1j #complex\t\n",
    "x = [\"apple\", \"banana\", \"cherry\"] #list\t\n",
    "x = (\"apple\", \"banana\", \"cherry\") #tuple\t\n",
    "x = range(6) #range\t\n",
    "x = {\"name\" : \"John\", \"age\" : 36} #dict\t\n",
    "x = {\"apple\", \"banana\", \"cherry\"} #set\t\n",
    "x = frozenset({\"apple\", \"banana\", \"cherry\"}) #frozenset\t\n",
    "x = True #bool\t\n",
    "x = b\"Hello\" #bytes\t\n",
    "x = bytearray(5) #bytearray\t\n",
    "x = memoryview(bytes(5)) #memoryview\t\n",
    "x = None #NoneType"
   ]
  },
  {
   "cell_type": "code",
   "execution_count": null,
   "metadata": {},
   "outputs": [],
   "source": [
    "x = str(\"Hello World\")\t#str\t\n",
    "x = int(20)\t#int\t\n",
    "x = float(20.5)\t#float\t\n",
    "x = complex(1j)\t#complex\t\n",
    "x = list((\"apple\", \"banana\", \"cherry\"))\t#list\t\n",
    "x = tuple((\"apple\", \"banana\", \"cherry\")) #tuple\t\n",
    "x = range(6) #range\t\n",
    "x = dict(name=\"John\", age=36) #dict\t\n",
    "x = set((\"apple\", \"banana\", \"cherry\")) #set\t\n",
    "x = frozenset((\"apple\", \"banana\", \"cherry\")) #frozenset\t\n",
    "x = bool(5)\t#bool\t\n",
    "x = bytes(5) #bytes\t\n",
    "x = bytearray(5) #bytearray\t\n",
    "x = memoryview(bytes(5)) #memoryview"
   ]
  }
 ],
 "metadata": {
  "language_info": {
   "name": "python"
  }
 },
 "nbformat": 4,
 "nbformat_minor": 2
}
