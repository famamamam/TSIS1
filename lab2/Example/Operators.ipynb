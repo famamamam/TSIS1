{
 "cells": [
  {
   "cell_type": "code",
   "execution_count": 1,
   "metadata": {},
   "outputs": [
    {
     "name": "stdout",
     "output_type": "stream",
     "text": [
      "15\n"
     ]
    }
   ],
   "source": [
    "print(10+5)"
   ]
  },
  {
   "cell_type": "code",
   "execution_count": 2,
   "metadata": {},
   "outputs": [
    {
     "name": "stdout",
     "output_type": "stream",
     "text": [
      "7\n"
     ]
    }
   ],
   "source": [
    "# Operator +\n",
    "x=5\n",
    "y=2\n",
    "print(x+y)"
   ]
  },
  {
   "cell_type": "code",
   "execution_count": 3,
   "metadata": {},
   "outputs": [
    {
     "name": "stdout",
     "output_type": "stream",
     "text": [
      "3\n"
     ]
    }
   ],
   "source": [
    "# Operator -\n",
    "x=5\n",
    "y=2\n",
    "print(x-y)"
   ]
  },
  {
   "cell_type": "code",
   "execution_count": 4,
   "metadata": {},
   "outputs": [
    {
     "name": "stdout",
     "output_type": "stream",
     "text": [
      "10\n"
     ]
    }
   ],
   "source": [
    "# Operator *\n",
    "x=5\n",
    "y=2\n",
    "print(x*y)"
   ]
  },
  {
   "cell_type": "code",
   "execution_count": 5,
   "metadata": {},
   "outputs": [
    {
     "name": "stdout",
     "output_type": "stream",
     "text": [
      "2.5\n"
     ]
    }
   ],
   "source": [
    "# Operator /\n",
    "x=5\n",
    "y=2\n",
    "print(x/y)"
   ]
  },
  {
   "cell_type": "code",
   "execution_count": 6,
   "metadata": {},
   "outputs": [
    {
     "name": "stdout",
     "output_type": "stream",
     "text": [
      "1\n"
     ]
    }
   ],
   "source": [
    "# Operator %\n",
    "x=5\n",
    "y=2\n",
    "print(x%y)"
   ]
  },
  {
   "cell_type": "code",
   "execution_count": 7,
   "metadata": {},
   "outputs": [
    {
     "name": "stdout",
     "output_type": "stream",
     "text": [
      "25\n"
     ]
    }
   ],
   "source": [
    "# Operator **\n",
    "x=5\n",
    "y=2\n",
    "print(x**y)"
   ]
  },
  {
   "cell_type": "code",
   "execution_count": 8,
   "metadata": {},
   "outputs": [
    {
     "name": "stdout",
     "output_type": "stream",
     "text": [
      "2\n"
     ]
    }
   ],
   "source": [
    "# Operator //\n",
    "x=5\n",
    "y=2\n",
    "print(x//y)"
   ]
  },
  {
   "cell_type": "code",
   "execution_count": 9,
   "metadata": {},
   "outputs": [
    {
     "ename": "SyntaxError",
     "evalue": "invalid syntax (1282199413.py, line 1)",
     "output_type": "error",
     "traceback": [
      "\u001b[1;36m  Cell \u001b[1;32mIn[9], line 1\u001b[1;36m\u001b[0m\n\u001b[1;33m    =\t   x = 5\t  x = 5\u001b[0m\n\u001b[1;37m    ^\u001b[0m\n\u001b[1;31mSyntaxError\u001b[0m\u001b[1;31m:\u001b[0m invalid syntax\n"
     ]
    }
   ],
   "source": [
    "=\t   x = 5\t  x = 5\t\n",
    "+=\t   x += 3\t  x = x + 3\t\n",
    "-=\t   x -= 3\t  x = x - 3\t\n",
    "*=\t   x *= 3\t  x = x * 3\t\n",
    "/=\t   x /= 3\t  x = x / 3\t\n",
    "%=\t   x %= 3\t  x = x % 3\t\n",
    "//=\t   x //= 3\t  x = x // 3\t\n",
    "**=\t   x **= 3\t  x = x ** 3\t\n",
    "&=\t   x &= 3\t  x = x & 3\t\n",
    "|=\t   x |= 3\t  x = x | 3\t\n",
    "^=\t   x ^= 3\t  x = x ^ 3\t\n",
    ">>=\t   x >>= 3\t  x = x >> 3\t\n",
    "<<=\t   x <<= 3\t  x = x << 3"
   ]
  },
  {
   "cell_type": "code",
   "execution_count": 10,
   "metadata": {},
   "outputs": [
    {
     "ename": "SyntaxError",
     "evalue": "invalid syntax (1985581449.py, line 1)",
     "output_type": "error",
     "traceback": [
      "\u001b[1;36m  Cell \u001b[1;32mIn[10], line 1\u001b[1;36m\u001b[0m\n\u001b[1;33m    =\t  x = 5\t      x = 5\u001b[0m\n\u001b[1;37m    ^\u001b[0m\n\u001b[1;31mSyntaxError\u001b[0m\u001b[1;31m:\u001b[0m invalid syntax\n"
     ]
    }
   ],
   "source": [
    "=\t  x = 5\t      x = 5\t\n",
    "+=\t  x += 3\t  x = x + 3\t\n",
    "-=\t  x -= 3\t  x = x - 3\t\n",
    "*=\t  x *= 3\t  x = x * 3\t\n",
    "/=\t  x /= 3\t  x = x / 3\t\n",
    "%=\t  x %= 3\t  x = x % 3\t\n",
    "//=\t  x //= 3\t  x = x // 3\t\n",
    "**=\t  x **= 3\t  x = x ** 3\t\n",
    "&=\t  x &= 3\t  x = x & 3\t\n",
    "|=\t  x |= 3\t  x = x | 3\t\n",
    "^=\t  x ^= 3\t  x = x ^ 3\t\n",
    ">>=\t  x >>= 3\t  x = x >> 3\t\n",
    "<<=\t  x <<= 3\t  x = x << 3"
   ]
  },
  {
   "cell_type": "code",
   "execution_count": 11,
   "metadata": {},
   "outputs": [
    {
     "ename": "SyntaxError",
     "evalue": "invalid syntax (2974288043.py, line 1)",
     "output_type": "error",
     "traceback": [
      "\u001b[1;36m  Cell \u001b[1;32mIn[11], line 1\u001b[1;36m\u001b[0m\n\u001b[1;33m    and \tReturns True if both statements are true\t                        x < 5 and  x < 10\u001b[0m\n\u001b[1;37m    ^\u001b[0m\n\u001b[1;31mSyntaxError\u001b[0m\u001b[1;31m:\u001b[0m invalid syntax\n"
     ]
    }
   ],
   "source": [
    "#Op     Description                                                         Example\n",
    "and \tReturns True if both statements are true\t                        x < 5 and  x < 10\t\n",
    "or\t    Returns True if one of the statements is true\t                    x < 5 or x < 4\t\n",
    "not\t    Reverse the result, returns False if the result is true\t            not(x < 5 and x < 10)"
   ]
  },
  {
   "cell_type": "code",
   "execution_count": 12,
   "metadata": {},
   "outputs": [
    {
     "ename": "SyntaxError",
     "evalue": "invalid syntax (578129122.py, line 1)",
     "output_type": "error",
     "traceback": [
      "\u001b[1;36m  Cell \u001b[1;32mIn[12], line 1\u001b[1;36m\u001b[0m\n\u001b[1;33m    is \t        Returns True if both variables are the same object\t            x is y\u001b[0m\n\u001b[1;37m    ^\u001b[0m\n\u001b[1;31mSyntaxError\u001b[0m\u001b[1;31m:\u001b[0m invalid syntax\n"
     ]
    }
   ],
   "source": [
    "#Op         Description                                                     Example\n",
    "is \t        Returns True if both variables are the same object\t            x is y\t\n",
    "is not\t    Returns True if both variables are not the same object\t        x is not y"
   ]
  },
  {
   "cell_type": "code",
   "execution_count": 13,
   "metadata": {},
   "outputs": [
    {
     "ename": "SyntaxError",
     "evalue": "invalid syntax (2057742740.py, line 1)",
     "output_type": "error",
     "traceback": [
      "\u001b[1;36m  Cell \u001b[1;32mIn[13], line 1\u001b[1;36m\u001b[0m\n\u001b[1;33m    in \t        Returns True if a sequence with the specified value is present in the object\t        x in y\u001b[0m\n\u001b[1;37m    ^\u001b[0m\n\u001b[1;31mSyntaxError\u001b[0m\u001b[1;31m:\u001b[0m invalid syntax\n"
     ]
    }
   ],
   "source": [
    "#Op         Description                                                                             Example\n",
    "in \t        Returns True if a sequence with the specified value is present in the object\t        x in y\t\n",
    "not in\t    Returns True if a sequence with the specified value is not present in the object\t    x not in y"
   ]
  },
  {
   "cell_type": "code",
   "execution_count": 14,
   "metadata": {},
   "outputs": [
    {
     "ename": "SyntaxError",
     "evalue": "invalid syntax (554424606.py, line 2)",
     "output_type": "error",
     "traceback": [
      "\u001b[1;36m  Cell \u001b[1;32mIn[14], line 2\u001b[1;36m\u001b[0m\n\u001b[1;33m    & \t    AND\t                    Sets each bit to 1 if both bits are 1\t                                                                                        x & y\u001b[0m\n\u001b[1;37m    ^\u001b[0m\n\u001b[1;31mSyntaxError\u001b[0m\u001b[1;31m:\u001b[0m invalid syntax\n"
     ]
    }
   ],
   "source": [
    "#Op     Name                    Description                                                                                                                     Example\n",
    "& \t    AND\t                    Sets each bit to 1 if both bits are 1\t                                                                                        x & y\t\n",
    "|\t    OR\t                    Sets each bit to 1 if one of two bits is 1\t                                                                                    x | y\t\n",
    "^\t    XOR\t                    Sets each bit to 1 if only one of two bits is 1\t                                                                                x ^ y\t\n",
    "~\t    NOT\t                    Inverts all the bits\t                                                                                                        ~x\t\n",
    "<<\t    Zero fill left shift\tShift left by pushing zeros in from the right and let the leftmost bits fall off\t                                            x << 2\t\n",
    ">>\t    Signed right shift\t    Shift right by pushing copies of the leftmost bit in from the left, and let the rightmost bits fall off\t                        x >> 2"
   ]
  },
  {
   "cell_type": "code",
   "execution_count": 15,
   "metadata": {},
   "outputs": [
    {
     "name": "stdout",
     "output_type": "stream",
     "text": [
      "0\n"
     ]
    }
   ],
   "source": [
    "print((6+3)-(6+3))"
   ]
  },
  {
   "cell_type": "code",
   "execution_count": 16,
   "metadata": {},
   "outputs": [
    {
     "name": "stdout",
     "output_type": "stream",
     "text": [
      "115\n"
     ]
    }
   ],
   "source": [
    "print(100+5*3)\n"
   ]
  },
  {
   "cell_type": "code",
   "execution_count": 17,
   "metadata": {},
   "outputs": [
    {
     "ename": "SyntaxError",
     "evalue": "invalid syntax (347547734.py, line 2)",
     "output_type": "error",
     "traceback": [
      "\u001b[1;36m  Cell \u001b[1;32mIn[17], line 2\u001b[1;36m\u001b[0m\n\u001b[1;33m    ()\t                                                Parentheses\u001b[0m\n\u001b[1;37m      \t                                                ^\u001b[0m\n\u001b[1;31mSyntaxError\u001b[0m\u001b[1;31m:\u001b[0m invalid syntax\n"
     ]
    }
   ],
   "source": [
    "#Operator\t                                        Description\n",
    "()\t                                                Parentheses\t\n",
    "**\t                                                Exponentiation\t\n",
    "+x  -x  ~x\t                                        Unary plus, unary minus, and bitwise NOT\t\n",
    "*  /  //  %\t                                        Multiplication, division, floor division, and modulus\t\n",
    "+  -\t                                            Addition and subtraction\t\n",
    "<<  >>\t                                            Bitwise left and right shifts\t\n",
    "&\t                                                Bitwise AND\t\n",
    "^\t                                                Bitwise XOR\t\n",
    "|\t                                                Bitwise OR\t\n",
    "==  !=  >  >=  <  <=  is  is not  in  not in \t    Comparisons, identity, and membership operators\t\n",
    "not\t                                                Logical NOT\t\n",
    "and\t                                                AND\t\n",
    "or\t                                                OR"
   ]
  },
  {
   "cell_type": "code",
   "execution_count": null,
   "metadata": {},
   "outputs": [],
   "source": [
    "print(5 + 4 - 7 + 3)"
   ]
  }
 ],
 "metadata": {
  "kernelspec": {
   "display_name": "Python 3",
   "language": "python",
   "name": "python3"
  },
  "language_info": {
   "codemirror_mode": {
    "name": "ipython",
    "version": 3
   },
   "file_extension": ".py",
   "mimetype": "text/x-python",
   "name": "python",
   "nbconvert_exporter": "python",
   "pygments_lexer": "ipython3",
   "version": "3.12.1"
  }
 },
 "nbformat": 4,
 "nbformat_minor": 2
}
