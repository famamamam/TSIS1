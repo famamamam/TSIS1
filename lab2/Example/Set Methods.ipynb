{
 "cells": [
  {
   "cell_type": "code",
   "execution_count": null,
   "metadata": {},
   "outputs": [],
   "source": [
    "#Method\t                        Description\n",
    "add()\t                        Adds an element to the set\n",
    "clear()\t                        Removes all the elements from the set\n",
    "copy()\t                        Returns a copy of the set\n",
    "difference()\t                Returns a set containing the difference between two or more sets\n",
    "difference_update()\t            Removes the items in this set that are also included in another, specified set\n",
    "discard()\t                    Remove the specified item\n",
    "intersection()\t                Returns a set, that is the intersection of two other sets\n",
    "intersection_update()\t        Removes the items in this set that are not present in other, specified set(s)\n",
    "isdisjoint()\t                Returns whether two sets have a intersection or not\n",
    "issubset()\t                    Returns whether another set contains this set or not\n",
    "issuperset()\t                Returns whether this set contains another set or not\n",
    "pop()\t                        Removes an element from the set\n",
    "remove()\t                    Removes the specified element\n",
    "symmetric_difference()\t        Returns a set with the symmetric differences of two sets\n",
    "symmetric_difference_update()\tinserts the symmetric differences from this set and another\n",
    "union()\t                        Return a set containing the union of sets\n",
    "update()\t                    Update the set with the union of this set and others"
   ]
  }
 ],
 "metadata": {
  "language_info": {
   "name": "python"
  }
 },
 "nbformat": 4,
 "nbformat_minor": 2
}
